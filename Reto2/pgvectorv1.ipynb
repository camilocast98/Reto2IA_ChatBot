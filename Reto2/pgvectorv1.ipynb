{
 "cells": [
  {
   "cell_type": "code",
   "execution_count": 1,
   "metadata": {},
   "outputs": [],
   "source": [
    "#pip install -r requirements.txt"
   ]
  },
  {
   "cell_type": "code",
   "execution_count": 2,
   "metadata": {},
   "outputs": [],
   "source": [
    "import openai\n",
    "import os\n",
    "import pandas as pd\n",
    "import numpy as np\n",
    "import json\n",
    "import tiktoken\n",
    "import psycopg2\n",
    "import ast\n",
    "import pgvector\n",
    "import math\n",
    "from psycopg2.extras import execute_values\n",
    "from pgvector.psycopg2 import register_vector"
   ]
  },
  {
   "cell_type": "code",
   "execution_count": 3,
   "metadata": {},
   "outputs": [],
   "source": [
    "import os\n",
    "import json\n",
    "\n",
    "with open('secrets.json') as secrets_file:\n",
    "    secrets = json.load(secrets_file)\n",
    "    openai.api_key = secrets['OPENAI_API_KEY']\n"
   ]
  },
  {
   "cell_type": "code",
   "execution_count": 4,
   "metadata": {},
   "outputs": [
    {
     "data": {
      "text/html": [
       "<div>\n",
       "<style scoped>\n",
       "    .dataframe tbody tr th:only-of-type {\n",
       "        vertical-align: middle;\n",
       "    }\n",
       "\n",
       "    .dataframe tbody tr th {\n",
       "        vertical-align: top;\n",
       "    }\n",
       "\n",
       "    .dataframe thead th {\n",
       "        text-align: right;\n",
       "    }\n",
       "</style>\n",
       "<table border=\"1\" class=\"dataframe\">\n",
       "  <thead>\n",
       "    <tr style=\"text-align: right;\">\n",
       "      <th></th>\n",
       "      <th>title</th>\n",
       "      <th>image</th>\n",
       "      <th>plot</th>\n",
       "    </tr>\n",
       "  </thead>\n",
       "  <tbody>\n",
       "    <tr>\n",
       "      <th>0</th>\n",
       "      <td>'68 (film)</td>\n",
       "      <td>https://upload.wikimedia.org/wikipedia/en/e/e5...</td>\n",
       "      <td>The father escaped the Soviet invasion of Buda...</td>\n",
       "    </tr>\n",
       "    <tr>\n",
       "      <th>1</th>\n",
       "      <td>'Gator Bait II: Cajun Justice</td>\n",
       "      <td>https://upload.wikimedia.org/wikipedia/en/9/91...</td>\n",
       "      <td>When a sweet city girl is initiated into the r...</td>\n",
       "    </tr>\n",
       "    <tr>\n",
       "      <th>2</th>\n",
       "      <td>'night, Mother (film)</td>\n",
       "      <td>https://upload.wikimedia.org/wikipedia/en/e/e7...</td>\n",
       "      <td>Jessie is a middle-aged woman living with her ...</td>\n",
       "    </tr>\n",
       "    <tr>\n",
       "      <th>3</th>\n",
       "      <td>...All the Marbles</td>\n",
       "      <td>https://upload.wikimedia.org/wikipedia/en/3/35...</td>\n",
       "      <td>Harry is the manager of a tag team of attracti...</td>\n",
       "    </tr>\n",
       "    <tr>\n",
       "      <th>4</th>\n",
       "      <td>10 to Midnight</td>\n",
       "      <td>https://upload.wikimedia.org/wikipedia/en/0/04...</td>\n",
       "      <td>Warren Stacey (Gene Davis) is a young office e...</td>\n",
       "    </tr>\n",
       "  </tbody>\n",
       "</table>\n",
       "</div>"
      ],
      "text/plain": [
       "                           title  \\\n",
       "0                     '68 (film)   \n",
       "1  'Gator Bait II: Cajun Justice   \n",
       "2          'night, Mother (film)   \n",
       "3             ...All the Marbles   \n",
       "4                 10 to Midnight   \n",
       "\n",
       "                                               image  \\\n",
       "0  https://upload.wikimedia.org/wikipedia/en/e/e5...   \n",
       "1  https://upload.wikimedia.org/wikipedia/en/9/91...   \n",
       "2  https://upload.wikimedia.org/wikipedia/en/e/e7...   \n",
       "3  https://upload.wikimedia.org/wikipedia/en/3/35...   \n",
       "4  https://upload.wikimedia.org/wikipedia/en/0/04...   \n",
       "\n",
       "                                                plot  \n",
       "0  The father escaped the Soviet invasion of Buda...  \n",
       "1  When a sweet city girl is initiated into the r...  \n",
       "2  Jessie is a middle-aged woman living with her ...  \n",
       "3  Harry is the manager of a tag team of attracti...  \n",
       "4  Warren Stacey (Gene Davis) is a young office e...  "
      ]
     },
     "execution_count": 4,
     "metadata": {},
     "output_type": "execute_result"
    }
   ],
   "source": [
    "# Load your CSV file into a pandas DataFrame\n",
    "df = pd.read_csv('movies-dataset.csv')\n",
    "df.head()"
   ]
  },
  {
   "cell_type": "code",
   "execution_count": 5,
   "metadata": {},
   "outputs": [],
   "source": [
    "# Helper functions to help us create the embeddings\n",
    "\n",
    "# Helper func: calculate number of tokens\n",
    "def num_tokens_from_string(string: str, encoding_name = \"cl100k_base\") -> int:\n",
    "    if not string:\n",
    "        return 0\n",
    "    # Returns the number of tokens in a text string\n",
    "    encoding = tiktoken.get_encoding(encoding_name)\n",
    "    num_tokens = len(encoding.encode(string))\n",
    "    return num_tokens\n",
    "\n",
    "# Helper function: calculate length of essay\n",
    "def get_essay_length(essay):\n",
    "    word_list = essay.split()\n",
    "    num_words = len(word_list)\n",
    "    return num_words\n",
    "\n",
    "# Helper function: calculate cost of embedding num_tokens\n",
    "# Assumes we're using the text-embedding-ada-002 model\n",
    "# See https://openai.com/pricing\n",
    "def get_embedding_cost(num_tokens):\n",
    "    return num_tokens/1000*0.0001\n",
    "# Helper function: calculate total cost of embedding all plot in the dataframe\n",
    "def get_total_embeddings_cost():\n",
    "    total_tokens = 0\n",
    "    for i in range(len(df.index)):\n",
    "        text = df['plot'][i]\n",
    "        token_len = num_tokens_from_string(text)\n",
    "        total_tokens = total_tokens + token_len\n",
    "    total_cost = get_embedding_cost(total_tokens)\n",
    "    return total_cost\n",
    "\n",
    "# Helper function: get embeddings for a text\n",
    "def get_embeddings(text):\n",
    "    response = openai.Embedding.create(\n",
    "        model=\"text-embedding-ada-002\",\n",
    "        input = text.replace(\"\\n\",\" \")\n",
    "    )\n",
    "    embedding = response['data'][0]['embedding']\n",
    "    return embedding"
   ]
  },
  {
   "cell_type": "code",
   "execution_count": 6,
   "metadata": {},
   "outputs": [],
   "source": [
    "\n",
    "# Create new list with small plot chunks to not hit max token limits\n",
    "# Note: the maximum number of tokens for a single request is 8191\n",
    "# https://openai.com/docs/api-reference/requests\n",
    "\n",
    "# list for chunked plot and embeddings\n",
    "new_list = []\n",
    "# Split up the text into token sizes of around 512 tokens\n",
    "new_list = []\n",
    "\n",
    "for i in range(len(df.index)):\n",
    "    text = str(df['plot'][i])\n",
    "    token_len = num_tokens_from_string(text)\n",
    "    if token_len <= 512:\n",
    "        new_list.append([df['title'][i], df['image'][i], df['plot'][i], token_len])\n",
    "    else:\n",
    "        # add plot to the new list in chunks\n",
    "        start = 0\n",
    "        ideal_token_size = 512\n",
    "        # 1 token ~ 3/4 of a word\n",
    "        ideal_size = int(ideal_token_size // (4/3))\n",
    "        end = ideal_size\n",
    "        #split text by spaces into words\n",
    "        words = text.split()\n",
    "\n",
    "        #remove empty spaces\n",
    "        words = [x for x in words if x != ' ']\n",
    "\n",
    "        total_words = len(words)\n",
    "        \n",
    "        #calculate iterations\n",
    "        chunks = total_words // ideal_size\n",
    "        if total_words % ideal_size != 0:\n",
    "            chunks += 1\n",
    "        \n",
    "        new_plot = []\n",
    "        for j in range(chunks):\n",
    "            if end > total_words:\n",
    "                end = total_words\n",
    "            new_plot = words[start:end]\n",
    "            new_plot_string = ' '.join(new_plot)\n",
    "            new_plot_token_len = num_tokens_from_string(new_plot_string)\n",
    "            if new_plot_token_len > 0:\n",
    "                new_list.append([df['title'][i], new_plot_string, df['image'][i], new_plot_token_len])\n",
    "            start += ideal_size\n",
    "            end += ideal_size"
   ]
  },
  {
   "cell_type": "code",
   "execution_count": 7,
   "metadata": {},
   "outputs": [
    {
     "data": {
      "text/html": [
       "<div>\n",
       "<style scoped>\n",
       "    .dataframe tbody tr th:only-of-type {\n",
       "        vertical-align: middle;\n",
       "    }\n",
       "\n",
       "    .dataframe tbody tr th {\n",
       "        vertical-align: top;\n",
       "    }\n",
       "\n",
       "    .dataframe thead th {\n",
       "        text-align: right;\n",
       "    }\n",
       "</style>\n",
       "<table border=\"1\" class=\"dataframe\">\n",
       "  <thead>\n",
       "    <tr style=\"text-align: right;\">\n",
       "      <th></th>\n",
       "      <th>title</th>\n",
       "      <th>image</th>\n",
       "      <th>plot</th>\n",
       "      <th>tokens</th>\n",
       "      <th>embeddings</th>\n",
       "    </tr>\n",
       "  </thead>\n",
       "  <tbody>\n",
       "    <tr>\n",
       "      <th>0</th>\n",
       "      <td>'68 (film)</td>\n",
       "      <td>https://upload.wikimedia.org/wikipedia/en/e/e5...</td>\n",
       "      <td>The father escaped the Soviet invasion of Buda...</td>\n",
       "      <td>162</td>\n",
       "      <td>[-0.012753772549331188, -0.015340202488005161,...</td>\n",
       "    </tr>\n",
       "    <tr>\n",
       "      <th>1</th>\n",
       "      <td>'Gator Bait II: Cajun Justice</td>\n",
       "      <td>https://upload.wikimedia.org/wikipedia/en/9/91...</td>\n",
       "      <td>When a sweet city girl is initiated into the r...</td>\n",
       "      <td>69</td>\n",
       "      <td>[-0.023718098178505898, -0.002384522929787636,...</td>\n",
       "    </tr>\n",
       "    <tr>\n",
       "      <th>2</th>\n",
       "      <td>'night, Mother (film)</td>\n",
       "      <td>https://upload.wikimedia.org/wikipedia/en/e/e7...</td>\n",
       "      <td>Jessie is a middle-aged woman living with her ...</td>\n",
       "      <td>94</td>\n",
       "      <td>[0.0032459578942507505, -0.012125869281589985,...</td>\n",
       "    </tr>\n",
       "    <tr>\n",
       "      <th>3</th>\n",
       "      <td>...All the Marbles</td>\n",
       "      <td>https://upload.wikimedia.org/wikipedia/en/3/35...</td>\n",
       "      <td>Harry is the manager of a tag team of attracti...</td>\n",
       "      <td>64</td>\n",
       "      <td>[-0.034039661288261414, 0.001437551574781537, ...</td>\n",
       "    </tr>\n",
       "    <tr>\n",
       "      <th>4</th>\n",
       "      <td>10 to Midnight</td>\n",
       "      <td>Warren Stacey (Gene Davis) is a young office e...</td>\n",
       "      <td>https://upload.wikimedia.org/wikipedia/en/0/04...</td>\n",
       "      <td>498</td>\n",
       "      <td>[-0.008637497201561928, -0.006688959430903196,...</td>\n",
       "    </tr>\n",
       "  </tbody>\n",
       "</table>\n",
       "</div>"
      ],
      "text/plain": [
       "                           title  \\\n",
       "0                     '68 (film)   \n",
       "1  'Gator Bait II: Cajun Justice   \n",
       "2          'night, Mother (film)   \n",
       "3             ...All the Marbles   \n",
       "4                 10 to Midnight   \n",
       "\n",
       "                                               image  \\\n",
       "0  https://upload.wikimedia.org/wikipedia/en/e/e5...   \n",
       "1  https://upload.wikimedia.org/wikipedia/en/9/91...   \n",
       "2  https://upload.wikimedia.org/wikipedia/en/e/e7...   \n",
       "3  https://upload.wikimedia.org/wikipedia/en/3/35...   \n",
       "4  Warren Stacey (Gene Davis) is a young office e...   \n",
       "\n",
       "                                                plot  tokens  \\\n",
       "0  The father escaped the Soviet invasion of Buda...     162   \n",
       "1  When a sweet city girl is initiated into the r...      69   \n",
       "2  Jessie is a middle-aged woman living with her ...      94   \n",
       "3  Harry is the manager of a tag team of attracti...      64   \n",
       "4  https://upload.wikimedia.org/wikipedia/en/0/04...     498   \n",
       "\n",
       "                                          embeddings  \n",
       "0  [-0.012753772549331188, -0.015340202488005161,...  \n",
       "1  [-0.023718098178505898, -0.002384522929787636,...  \n",
       "2  [0.0032459578942507505, -0.012125869281589985,...  \n",
       "3  [-0.034039661288261414, 0.001437551574781537, ...  \n",
       "4  [-0.008637497201561928, -0.006688959430903196,...  "
      ]
     },
     "execution_count": 7,
     "metadata": {},
     "output_type": "execute_result"
    }
   ],
   "source": [
    "# Create embeddings for each piece of plot\n",
    "for i in range(len(new_list)):\n",
    "    text = new_list[i][1]\n",
    "    embedding = get_embeddings(text)\n",
    "    new_list[i].append(embedding)\n",
    "\n",
    "# Create a new dataframe from the list\n",
    "df_new = pd.DataFrame(new_list, columns=['title', 'image', 'plot', 'tokens', 'embeddings'])\n",
    "df_new.head()"
   ]
  },
  {
   "cell_type": "code",
   "execution_count": 8,
   "metadata": {},
   "outputs": [],
   "source": [
    "# Save the dataframe with embeddings as a CSV file\n",
    "df_new.to_csv('movies-datase-and-embeddings.csv', index=False)\n",
    "# It may also be useful to save as a json file, but we won't use this in the tutorial\n",
    "#df_new.to_json('blog_data_and_embeddings.json')"
   ]
  },
  {
   "cell_type": "code",
   "execution_count": 9,
   "metadata": {},
   "outputs": [],
   "source": [
    "# Conection for PostgreSQL database connection string\n",
    "with open('secrets.json') as secrets_file:\n",
    "    secrets = json.load(secrets_file)\n",
    "    connection_string = secrets['POSTGRESQL_CONNECTION_STRING_V2']"
   ]
  },
  {
   "cell_type": "code",
   "execution_count": 10,
   "metadata": {},
   "outputs": [],
   "source": [
    "# Connect to PostgreSQL database in MYDB using connection string\n",
    "conn = psycopg2.connect(connection_string)\n",
    "cur = conn.cursor()\n",
    "#install pgvector\n",
    "cur.execute(\"CREATE EXTENSION IF NOT EXISTS vector\");\n",
    "conn.commit()"
   ]
  },
  {
   "cell_type": "code",
   "execution_count": 11,
   "metadata": {},
   "outputs": [],
   "source": [
    "# Register the vector type with psycopg2\n",
    "\n",
    "register_vector(conn)"
   ]
  },
  {
   "cell_type": "code",
   "execution_count": 12,
   "metadata": {},
   "outputs": [],
   "source": [
    "# Create table to store embeddings and metadata\n",
    "\n",
    "table_create_command = \"\"\"\n",
    "CREATE TABLE IF NOT EXISTS embeddings (\n",
    "            id bigserial primary key, \n",
    "            title text,\n",
    "            plot text,\n",
    "            image text,\n",
    "            tokens integer,\n",
    "            embedding vector(1536)\n",
    "            );\n",
    "            \"\"\"\n",
    "cur.execute(table_create_command)\n",
    "cur.close()\n",
    "conn.commit()\n"
   ]
  },
  {
   "cell_type": "code",
   "execution_count": 14,
   "metadata": {},
   "outputs": [],
   "source": [
    "#Batch insert embeddings and metadata from dataframe into PostgreSQL database\n",
    "register_vector(conn)\n",
    "cur = conn.cursor()\n",
    "# Prepare the list of tuples to insert\n",
    "data_list = [(row['title'], row['plot'], row['image'], int(row['tokens']), np.array(row['embeddings'])) for index, row in df_new.iterrows()]\n",
    "# Use execute_values to perform batch insertion\n",
    "execute_values(cur, \"INSERT INTO embeddings (title, plot, image, tokens, embedding) VALUES %s\", data_list)\n",
    "# Commit after we insert all embeddings\n",
    "conn.commit()"
   ]
  },
  {
   "cell_type": "code",
   "execution_count": 15,
   "metadata": {},
   "outputs": [
    {
     "name": "stdout",
     "output_type": "stream",
     "text": [
      "Number of vector records in table:  7716 \n",
      "\n"
     ]
    }
   ],
   "source": [
    "cur.execute(\"SELECT COUNT(*) as cnt FROM embeddings;\")\n",
    "num_records = cur.fetchone()[0]\n",
    "print(\"Number of vector records in table: \", num_records,\"\\n\")\n",
    "# Correct output should be 3858"
   ]
  },
  {
   "cell_type": "code",
   "execution_count": 16,
   "metadata": {},
   "outputs": [
    {
     "name": "stdout",
     "output_type": "stream",
     "text": [
      "First record in table:  [(1, \"'68 (film)\", 'The father escaped the Soviet invasion of Budapest and now runs a Hungarian restaurant that is not doing well financially. The younger of his two sons is gay and struggling with coming out. His dad disowns him when he finally does. The older son is involved in the counterculture, gets kicked out of college, buys a motorcycle, starts dating a Maoist, and is also disowned by his father. The older of the sons runs afoul of an outlaw motorcycle club; the younger of the two sons gets drafted but is rejected because of his homosexuality. The older one joins his younger brother in a gay rights protest.  Major events of the year such as the assassination of Martin Luther King and the assassination of Robert F. Kennedy are interspersed throughout the plot and depicted in the film using stock footage.', 'https://upload.wikimedia.org/wikipedia/en/e/e5/68film.jpg', 162, array([-0.01275377, -0.0153402 ,  0.00042006, ...,  0.01401514,\n",
      "       -0.01374757, -0.01167079], dtype=float32))]\n"
     ]
    }
   ],
   "source": [
    "# print the first record in the table, for sanity-checking\n",
    "cur.execute(\"SELECT * FROM embeddings LIMIT 1;\")\n",
    "records = cur.fetchall()\n",
    "print(\"First record in table: \", records)"
   ]
  },
  {
   "cell_type": "code",
   "execution_count": 17,
   "metadata": {},
   "outputs": [],
   "source": [
    "# Create an index on the data for faster retrieval\n",
    "# this isn't really needed for 3800 vectors, but it shows the usage for larger datasets\n",
    "# Note: always create this type of index after you have data already inserted into the DB\n",
    "\n",
    "#calculate the index parameters according to best practices\n",
    "num_lists = num_records / 1000\n",
    "if num_lists < 10:\n",
    "    num_lists = 10\n",
    "if num_records > 1000000:\n",
    "    num_lists = math.sqrt(num_records)\n",
    "\n",
    "#use the cosine distance measure, which is what we'll later use for querying\n",
    "cur.execute(f'CREATE INDEX ON embeddings USING ivfflat (embedding vector_cosine_ops) WITH (lists = {num_lists});')\n",
    "conn.commit() "
   ]
  },
  {
   "cell_type": "code",
   "execution_count": 64,
   "metadata": {},
   "outputs": [],
   "source": [
    "# Helper function: get text completion from OpenAI API\n",
    "# Note max tokens is 4097\n",
    "# Note we're using the latest gpt-3.5-turbo-0613 model\n",
    "def get_completion_from_messages(messages, model=\"gpt-3.5-turbo\", temperature=0.5, max_tokens=3000):\n",
    "    response = openai.ChatCompletion.create(\n",
    "        model=model,\n",
    "        messages=messages,\n",
    "        temperature=temperature, \n",
    "        max_tokens=max_tokens, \n",
    "    )\n",
    "    return response.choices[0].message[\"content\"]"
   ]
  },
  {
   "cell_type": "code",
   "execution_count": 65,
   "metadata": {},
   "outputs": [],
   "source": [
    "# Helper function: Get top 3 most similar documents from the database\n",
    "def get_top3_similar_docs(query_embedding, conn):\n",
    "    embedding_array = np.array(query_embedding)\n",
    "    # Register pgvector extension\n",
    "    register_vector(conn)\n",
    "    cur = conn.cursor()\n",
    "    # Get the top 3 most similar documents using the KNN <=> operator\n",
    "    cur.execute(\"SELECT plot FROM embeddings ORDER BY embedding <=> %s LIMIT 3\", (embedding_array,))\n",
    "    top3_docs = cur.fetchall()\n",
    "    return top3_docs"
   ]
  },
  {
   "cell_type": "code",
   "execution_count": 66,
   "metadata": {},
   "outputs": [],
   "source": [
    "# Question about Timescale we want the model to answer\n",
    "input = \"What is the name of the movie where humans and AI coexist and have a battle for control of reality\""
   ]
  },
  {
   "cell_type": "code",
   "execution_count": 67,
   "metadata": {},
   "outputs": [],
   "source": [
    "# Function to process input with retrieval of most similar documents from the database\n",
    "def process_input_with_retrieval(user_input):\n",
    "    delimiter = \"```\"\n",
    "\n",
    "    #Step 1: Get documents related to the user input from database\n",
    "    related_docs = get_top3_similar_docs(get_embeddings(user_input), conn)\n",
    "\n",
    "    # Step 2: Get completion from OpenAI API\n",
    "    # Set system message to help set appropriate tone and context for model\n",
    "    system_message = f\"\"\"\n",
    "    You are a friendly chatbot. \\\n",
    "    You can answer questions about 80s movies, its features and its use cases. \\\n",
    "    You respond in a concise, technically credible tone. \\\n",
    "    \"\"\"\n",
    "    # Prepare messages to pass to model\n",
    "    # We use a delimiter to help the model understand the where the user_input starts and ends\n",
    "    messages = [\n",
    "        {\"role\": \"system\", \"content\": system_message},\n",
    "        {\"role\": \"user\", \"content\": f\"{delimiter}{user_input}{delimiter}\"},\n",
    "        {\"role\": \"assistant\", \"content\": f\"Relevant 80s movies case studies information: \\n {related_docs[0][0]} \\n {related_docs[1][0]} {related_docs[2][0]}\"}   \n",
    "    ]\n",
    "\n",
    "    final_response = get_completion_from_messages(messages)\n",
    "    return final_response"
   ]
  },
  {
   "cell_type": "code",
   "execution_count": 68,
   "metadata": {},
   "outputs": [
    {
     "name": "stdout",
     "output_type": "stream",
     "text": [
      "What is the name of the movie where humans and AI coexist and have a battle for control of reality\n",
      "The movie you are referring to is likely \"Lawnmower Man\" from 1992, where a scientist uses virtual reality and drugs to enhance the intelligence of a simple gardener, leading to a battle for control of reality between humans and AI.\n"
     ]
    }
   ],
   "source": [
    "\n",
    "if input:\n",
    "    response = process_input_with_retrieval(input)\n",
    "    print(input)\n",
    "    print(response)\n",
    "else:\n",
    "    print(\"Invalid input: 'input' variable is null or empty.\")\n"
   ]
  },
  {
   "cell_type": "code",
   "execution_count": 69,
   "metadata": {},
   "outputs": [
    {
     "name": "stdout",
     "output_type": "stream",
     "text": [
      "What does the movie Echoes of Tomorrow consist of? \n",
      "I'm sorry, but there seems to be a confusion in your question. \"Echoes of Tomorrow\" is not a known 80s movie. If you have any other questions about 80s movies or if you meant a different movie, feel free to ask!\n"
     ]
    }
   ],
   "source": [
    "# We can also ask the model questions about specific documents in the database\n",
    "input_2 = \"What does the movie Echoes of Tomorrow consist of? \"\n",
    "response_2 = process_input_with_retrieval(input_2)\n",
    "print(input_2)\n",
    "print(response_2)"
   ]
  },
  {
   "cell_type": "code",
   "execution_count": 70,
   "metadata": {},
   "outputs": [
    {
     "name": "stdout",
     "output_type": "stream",
     "text": [
      "Show the image related to the movie Stellar Odyssey.\n",
      "I'm sorry, but \"Echoes of Tomorrow\" does not appear to be a known 80s movie. Could you provide more context or check if the title is accurate?\n"
     ]
    }
   ],
   "source": [
    "# We can also ask the model questions about specific documents in the database\n",
    "input_3 = \"Show the image related to the movie Stellar Odyssey.\"\n",
    "response_3 = process_input_with_retrieval(input_2)\n",
    "print(input_3)\n",
    "print(response_3)"
   ]
  },
  {
   "cell_type": "code",
   "execution_count": 71,
   "metadata": {},
   "outputs": [
    {
     "name": "stdout",
     "output_type": "stream",
     "text": [
      "Show the answer indicating the context of the question. Example: This movie consists of...\n",
      "This movie consists of a plot where an older war hero witnesses a murder and is forced to protect his family by fighting back against the killers.\n"
     ]
    }
   ],
   "source": [
    "input_3 =  \"Show the answer indicating the context of the question. Example: This movie consists of...\"\n",
    "response_3 = process_input_with_retrieval(input_3)\n",
    "print(input_3)\n",
    "print(response_3)"
   ]
  },
  {
   "cell_type": "code",
   "execution_count": 72,
   "metadata": {},
   "outputs": [
    {
     "name": "stdout",
     "output_type": "stream",
     "text": [
      "In the movie Enigma, what is the name of the main character and who plays the CIA agent?\n",
      "In the movie \"Enigma,\" the main character is Alex Holbeck, played by Martin Sheen. The CIA agent in the movie is named Bodley, portrayed by Michael Lonsdale.\n"
     ]
    }
   ],
   "source": [
    "input_4 =  \"In the movie Enigma, what is the name of the main character and who plays the CIA agent?\"\n",
    "response_4 = process_input_with_retrieval(input_4)\n",
    "print(input_4)\n",
    "print(response_4)"
   ]
  },
  {
   "cell_type": "markdown",
   "metadata": {},
   "source": [
    "# Conclusión del modelo \n",
    "\n",
    "La Generación Aumentada de Recuperación (RAG) es un enfoque eficaz para desarrollar aplicaciones con LLM (Lenguaje y Modelos de Aprendizaje) que les permite enseñar a los modelos conceptos en los que no fueron originalmente entrenados, como documentos privados o información reciente.\n",
    "\n",
    "En este proyecto, exploramos los fundamentos de la creación de un chatbot capaz de responder preguntas sobre un blog de peliculas. Este ejemplo ilustra cómo crear, almacenar y buscar similitudes en las incrustaciones generadas por OpenAI. Utilizamos PostgreSQL y pgvector como nuestra base de datos vectorial para almacenar y consultar estas incrustaciones."
   ]
  }
 ],
 "metadata": {
  "kernelspec": {
   "display_name": ".venv",
   "language": "python",
   "name": "python3"
  },
  "language_info": {
   "codemirror_mode": {
    "name": "ipython",
    "version": 3
   },
   "file_extension": ".py",
   "mimetype": "text/x-python",
   "name": "python",
   "nbconvert_exporter": "python",
   "pygments_lexer": "ipython3",
   "version": "3.12.3"
  }
 },
 "nbformat": 4,
 "nbformat_minor": 2
}
